{
 "cells": [
  {
   "cell_type": "code",
   "execution_count": null,
   "metadata": {
    "execution": {
     "iopub.execute_input": "2025-03-02T13:46:38.929116Z",
     "iopub.status.busy": "2025-03-02T13:46:38.928637Z",
     "iopub.status.idle": "2025-03-02T13:46:40.006512Z",
     "shell.execute_reply": "2025-03-02T13:46:40.005304Z",
     "shell.execute_reply.started": "2025-03-02T13:46:38.929023Z"
    },
    "trusted": true
   },
   "outputs": [],
   "source": [
    "!nvcc --version"
   ]
  },
  {
   "cell_type": "code",
   "execution_count": null,
   "metadata": {
    "execution": {
     "iopub.execute_input": "2025-03-02T13:46:40.009860Z",
     "iopub.status.busy": "2025-03-02T13:46:40.009087Z",
     "iopub.status.idle": "2025-03-02T13:47:02.426376Z",
     "shell.execute_reply": "2025-03-02T13:47:02.425168Z",
     "shell.execute_reply.started": "2025-03-02T13:46:40.009818Z"
    },
    "trusted": true
   },
   "outputs": [],
   "source": [
    "!pip install pytorch_fid\n",
    "!pip install mxnet-cu110\n",
    "!git clone https://github.com/cheese-roll/light-anime-face-detector"
   ]
  },
  {
   "cell_type": "code",
   "execution_count": null,
   "metadata": {
    "execution": {
     "iopub.execute_input": "2025-03-02T13:47:02.428267Z",
     "iopub.status.busy": "2025-03-02T13:47:02.427959Z",
     "iopub.status.idle": "2025-03-02T13:47:02.434998Z",
     "shell.execute_reply": "2025-03-02T13:47:02.434097Z",
     "shell.execute_reply.started": "2025-03-02T13:47:02.428240Z"
    },
    "trusted": true
   },
   "outputs": [],
   "source": [
    "%cd light-anime-face-detector"
   ]
  },
  {
   "cell_type": "code",
   "execution_count": null,
   "metadata": {
    "execution": {
     "iopub.execute_input": "2025-03-02T13:47:02.436308Z",
     "iopub.status.busy": "2025-03-02T13:47:02.436060Z",
     "iopub.status.idle": "2025-03-02T13:47:02.451838Z",
     "shell.execute_reply": "2025-03-02T13:47:02.451160Z",
     "shell.execute_reply.started": "2025-03-02T13:47:02.436286Z"
    },
    "trusted": true
   },
   "outputs": [],
   "source": [
    "LAFD_PATH    = 'light-anime-face-detector'\n",
    "CONFIG_PATH  = LAFD_PATH + '/configs/anime.json'\n",
    "DATASET_PATH = 'anime'"
   ]
  },
  {
   "cell_type": "code",
   "execution_count": null,
   "metadata": {
    "execution": {
     "iopub.execute_input": "2025-03-02T13:47:02.454150Z",
     "iopub.status.busy": "2025-03-02T13:47:02.453891Z",
     "iopub.status.idle": "2025-03-02T13:55:10.201112Z",
     "shell.execute_reply": "2025-03-02T13:55:10.199858Z",
     "shell.execute_reply.started": "2025-03-02T13:47:02.454126Z"
    },
    "trusted": true
   },
   "outputs": [],
   "source": [
    "import sys\n",
    "sys.path.append(LAFD_PATH)\n",
    "\n",
    "import os\n",
    "import torch\n",
    "from pytorch_fid.fid_score import compute_statistics_of_path\n",
    "from pytorch_fid.fid_score import calculate_frechet_distance\n",
    "from pytorch_fid.inception import InceptionV3\n",
    "\n",
    "import cv2\n",
    "import json\n",
    "from tqdm import tqdm\n",
    "from core.detector import LFFDDetector\n",
    "\n",
    "\n",
    "class Evaluator:\n",
    "    def __init__(self, dataset_path, batch_size=64, dims=2048):\n",
    "        device = 'cuda' if torch.cuda.is_available() else 'cpu'\n",
    "        self.dataset_path = dataset_path\n",
    "\n",
    "        assert dims in InceptionV3.BLOCK_INDEX_BY_DIM\n",
    "        block_idx = InceptionV3.BLOCK_INDEX_BY_DIM[dims]\n",
    "        model = InceptionV3([block_idx]).to(device)\n",
    "\n",
    "        self.params = {\n",
    "            'model': model,\n",
    "            'batch_size': batch_size,\n",
    "            'dims': dims,\n",
    "            'device': device,\n",
    "        }\n",
    "        self.m1, self.s1 = compute_statistics_of_path(self.dataset_path, **self.params)\n",
    "\n",
    "        with open(CONFIG_PATH, \"r\") as f:\n",
    "            config = json.load(f)\n",
    "        self.detector = LFFDDetector(config, use_gpu=True)\n",
    "        \n",
    "    def FID(self, generated_path):\n",
    "        m, s = compute_statistics_of_path(generated_path, **self.params)\n",
    "        return calculate_frechet_distance(self.m1, self.s1, m, s)\n",
    "\n",
    "    def AFD(self, generated_path):\n",
    "        image_files = os.listdir(generated_path)\n",
    "        \n",
    "        count = 0\n",
    "        for image_file in tqdm(image_files):\n",
    "            image_path = os.path.join(generated_path, image_file)\n",
    "            img = cv2.imread(image_path)\n",
    "            boxes = self.detector.detect(img)\n",
    "            count += 1 if boxes else 0\n",
    "\n",
    "        return (count / len(image_files))\n",
    "\n",
    "Eval = Evaluator(DATASET_PATH)"
   ]
  },
  {
   "cell_type": "code",
   "execution_count": null,
   "metadata": {
    "execution": {
     "iopub.execute_input": "2025-03-02T13:55:10.203313Z",
     "iopub.status.busy": "2025-03-02T13:55:10.202539Z",
     "iopub.status.idle": "2025-03-02T13:55:10.209911Z",
     "shell.execute_reply": "2025-03-02T13:55:10.208954Z",
     "shell.execute_reply.started": "2025-03-02T13:55:10.203281Z"
    },
    "trusted": true
   },
   "outputs": [],
   "source": [
    "def final_score(fid_score, afd_rate):\n",
    "    standards = {\n",
    "        'Default': (150.0, 0.60, 0),\n",
    "        'Simple':  (120.0, 0.70, 4),\n",
    "        'Normal':  (100.0, 0.80, 4),\n",
    "        'Medium':  ( 90.0, 0.85, 4),\n",
    "        'Hard':    ( 80.0, 0.90, 4),\n",
    "        'Boss':    ( 70.0, 0.95, 4),\n",
    "    }\n",
    "\n",
    "    score = 0\n",
    "    for title, standard in standards.items():\n",
    "        if fid_score <= standard[0] and afd_rate >= standard[1]:\n",
    "            score += standard[2]\n",
    "\n",
    "    return score"
   ]
  },
  {
   "cell_type": "code",
   "execution_count": null,
   "metadata": {
    "execution": {
     "iopub.execute_input": "2025-03-02T13:55:15.721236Z",
     "iopub.status.busy": "2025-03-02T13:55:15.720335Z",
     "iopub.status.idle": "2025-03-02T13:55:38.171612Z",
     "shell.execute_reply": "2025-03-02T13:55:38.170458Z",
     "shell.execute_reply.started": "2025-03-02T13:55:15.721199Z"
    },
    "trusted": true
   },
   "outputs": [],
   "source": [
    "path = 'generated' # Path to your generated images\n",
    "fid_score = Eval.FID(path)\n",
    "afd_rate  = Eval.AFD(path)\n",
    "\n",
    "print(f'FID score: {fid_score:.2f}')\n",
    "print(f'AFD rate:  {(afd_rate*100):.2f}%')\n",
    "print(f'Final score: {final_score(fid_score, afd_rate)}/20')"
   ]
  }
 ],
 "metadata": {
  "kaggle": {
   "accelerator": "nvidiaTeslaT4",
   "dataSources": [
    {
     "datasetId": 3065496,
     "sourceId": 5266736,
     "sourceType": "datasetVersion"
    }
   ],
   "dockerImageVersionId": 30370,
   "isGpuEnabled": true,
   "isInternetEnabled": true,
   "language": "python",
   "sourceType": "notebook"
  },
  "kernelspec": {
   "display_name": "Python 3",
   "language": "python",
   "name": "python3"
  },
  "language_info": {
   "codemirror_mode": {
    "name": "ipython",
    "version": 3
   },
   "file_extension": ".py",
   "mimetype": "text/x-python",
   "name": "python",
   "nbconvert_exporter": "python",
   "pygments_lexer": "ipython3",
   "version": "3.7.12"
  }
 },
 "nbformat": 4,
 "nbformat_minor": 4
}
